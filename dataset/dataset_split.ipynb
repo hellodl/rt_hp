{
 "cells": [
  {
   "cell_type": "code",
   "execution_count": 57,
   "metadata": {
    "collapsed": true
   },
   "outputs": [],
   "source": [
    "import json\n",
    "import os\n",
    "from math import ceil\n",
    "from shutil import move\n",
    "from generate_sample import check_sample"
   ]
  },
  {
   "cell_type": "code",
   "execution_count": 42,
   "metadata": {},
   "outputs": [],
   "source": [
    "# from argparse\n",
    "data_dir = '/media/x6850/DataX/Input/aic/train2017'\n",
    "train_data_split = '/media/x6850/DataX/Input/aic/train_data_split'\n",
    "anno_file = '/media/x6850/DataX/Input/aic/annotations/train_annotations.json' \n",
    "train_annotations_split = '/media/x6850/DataX/Input/aic/train_annotations_split' \n",
    "subset_nb = 20\n"
   ]
  },
  {
   "cell_type": "code",
   "execution_count": 8,
   "metadata": {},
   "outputs": [
    {
     "name": "stdout",
     "output_type": "stream",
     "text": [
      "210000\n"
     ]
    }
   ],
   "source": [
    "img_files = os.listdir(data_dir)\n",
    "print(len(img_files))"
   ]
  },
  {
   "cell_type": "code",
   "execution_count": 27,
   "metadata": {},
   "outputs": [
    {
     "name": "stdout",
     "output_type": "stream",
     "text": [
      "10500\n"
     ]
    }
   ],
   "source": [
    "sub_size = int(ceil(len(img_files) / subset_nb))\n",
    "print(sub_size)"
   ]
  },
  {
   "cell_type": "code",
   "execution_count": 23,
   "metadata": {},
   "outputs": [
    {
     "name": "stdout",
     "output_type": "stream",
     "text": [
      "210000\n"
     ]
    }
   ],
   "source": [
    "# split annotations\n",
    "with open(anno_file, 'r') as obj:\n",
    "    annotations = json.load(obj)\n",
    "    \n",
    "anno_size = len(annotations)\n",
    "print(anno_size)"
   ]
  },
  {
   "cell_type": "code",
   "execution_count": 28,
   "metadata": {
    "collapsed": false
   },
   "outputs": [],
   "source": [
    "for i in range(subset_nb):\n",
    "    start_idx = i*sub_size\n",
    "    end_idx = min((i+1)*sub_size, anno_size - 1)\n",
    "    annotations_sub = [j for j in annotations[start_idx:end_idx]]\n",
    "    anno_sub_filename = anno_file.split('.')[0] + '_p%s' % (i+1) + '.json'\n",
    "    with open(anno_sub_filename, 'w') as obj1:\n",
    "        json.dump(annotations_sub, obj1)"
   ]
  },
  {
   "cell_type": "code",
   "execution_count": 36,
   "metadata": {},
   "outputs": [
    {
     "name": "stdout",
     "output_type": "stream",
     "text": [
      "20\ntrain_annotations_p1.json\n"
     ]
    }
   ],
   "source": [
    "sub_anno_files = os.listdir(train_annotations_split)\n",
    "nb_sub_anno_files = len(sub_anno_files)\n",
    "print(nb_sub_anno_files)\n",
    "print(sub_anno_files[0])"
   ]
  },
  {
   "cell_type": "code",
   "execution_count": 48,
   "metadata": {
    "collapsed": false
   },
   "outputs": [
    {
     "name": "stdout",
     "output_type": "stream",
     "text": [
      "/media/x6850/DataX/Input/aic/train2017/c681fcce2fab08692d11100fd8195353cf27a631.jpg is not Found.\nsub: 1, moved: 1.\nsub: 1, moved: 501.\n"
     ]
    },
    {
     "name": "stdout",
     "output_type": "stream",
     "text": [
      "sub: 1, moved: 1001.\nsub: 1, moved: 1501.\n"
     ]
    },
    {
     "name": "stdout",
     "output_type": "stream",
     "text": [
      "sub: 1, moved: 2001.\nsub: 1, moved: 2501.\n"
     ]
    },
    {
     "name": "stdout",
     "output_type": "stream",
     "text": [
      "sub: 1, moved: 3001.\nsub: 1, moved: 3501.\n"
     ]
    },
    {
     "name": "stdout",
     "output_type": "stream",
     "text": [
      "sub: 1, moved: 4001.\nsub: 1, moved: 4501.\n"
     ]
    },
    {
     "name": "stdout",
     "output_type": "stream",
     "text": [
      "sub: 1, moved: 5001.\nsub: 1, moved: 5501.\n"
     ]
    },
    {
     "name": "stdout",
     "output_type": "stream",
     "text": [
      "sub: 1, moved: 6001.\nsub: 1, moved: 6501.\n"
     ]
    },
    {
     "name": "stdout",
     "output_type": "stream",
     "text": [
      "sub: 1, moved: 7001.\nsub: 1, moved: 7501.\n"
     ]
    },
    {
     "name": "stdout",
     "output_type": "stream",
     "text": [
      "sub: 1, moved: 8001.\nsub: 1, moved: 8501.\n"
     ]
    },
    {
     "name": "stdout",
     "output_type": "stream",
     "text": [
      "sub: 1, moved: 9001.\nsub: 1, moved: 9501.\n"
     ]
    },
    {
     "name": "stdout",
     "output_type": "stream",
     "text": [
      "sub: 1, moved: 10001.\n"
     ]
    },
    {
     "name": "stdout",
     "output_type": "stream",
     "text": [
      "sub: 2, moved: 1.\nsub: 2, moved: 501.\n"
     ]
    },
    {
     "name": "stdout",
     "output_type": "stream",
     "text": [
      "sub: 2, moved: 1001.\nsub: 2, moved: 1501.\n"
     ]
    },
    {
     "name": "stdout",
     "output_type": "stream",
     "text": [
      "sub: 2, moved: 2001.\nsub: 2, moved: 2501.\nsub: 2, moved: 3001.\n"
     ]
    },
    {
     "name": "stdout",
     "output_type": "stream",
     "text": [
      "sub: 2, moved: 3501.\nsub: 2, moved: 4001.\n"
     ]
    },
    {
     "name": "stdout",
     "output_type": "stream",
     "text": [
      "sub: 2, moved: 4501.\nsub: 2, moved: 5001.\nsub: 2, moved: 5501.\n"
     ]
    },
    {
     "name": "stdout",
     "output_type": "stream",
     "text": [
      "sub: 2, moved: 6001.\nsub: 2, moved: 6501.\n"
     ]
    },
    {
     "name": "stdout",
     "output_type": "stream",
     "text": [
      "sub: 2, moved: 7001.\nsub: 2, moved: 7501.\n"
     ]
    },
    {
     "name": "stdout",
     "output_type": "stream",
     "text": [
      "sub: 2, moved: 8001.\nsub: 2, moved: 8501.\n"
     ]
    },
    {
     "name": "stdout",
     "output_type": "stream",
     "text": [
      "sub: 2, moved: 9001.\nsub: 2, moved: 9501.\n"
     ]
    },
    {
     "name": "stdout",
     "output_type": "stream",
     "text": [
      "sub: 2, moved: 10001.\nsub: 3, moved: 1.\n"
     ]
    },
    {
     "name": "stdout",
     "output_type": "stream",
     "text": [
      "sub: 3, moved: 501.\nsub: 3, moved: 1001.\n"
     ]
    },
    {
     "name": "stdout",
     "output_type": "stream",
     "text": [
      "sub: 3, moved: 1501.\nsub: 3, moved: 2001.\n"
     ]
    },
    {
     "name": "stdout",
     "output_type": "stream",
     "text": [
      "sub: 3, moved: 2501.\nsub: 3, moved: 3001.\n"
     ]
    },
    {
     "name": "stdout",
     "output_type": "stream",
     "text": [
      "sub: 3, moved: 3501.\nsub: 3, moved: 4001.\n"
     ]
    },
    {
     "name": "stdout",
     "output_type": "stream",
     "text": [
      "sub: 3, moved: 4501.\nsub: 3, moved: 5001.\n"
     ]
    },
    {
     "name": "stdout",
     "output_type": "stream",
     "text": [
      "sub: 3, moved: 5501.\nsub: 3, moved: 6001.\n"
     ]
    },
    {
     "name": "stdout",
     "output_type": "stream",
     "text": [
      "sub: 3, moved: 6501.\nsub: 3, moved: 7001.\n"
     ]
    },
    {
     "name": "stdout",
     "output_type": "stream",
     "text": [
      "sub: 3, moved: 7501.\nsub: 3, moved: 8001.\nsub: 3, moved: 8501.\n"
     ]
    },
    {
     "name": "stdout",
     "output_type": "stream",
     "text": [
      "sub: 3, moved: 9001.\nsub: 3, moved: 9501.\n"
     ]
    },
    {
     "name": "stdout",
     "output_type": "stream",
     "text": [
      "sub: 3, moved: 10001.\n"
     ]
    },
    {
     "name": "stdout",
     "output_type": "stream",
     "text": [
      "sub: 4, moved: 1.\nsub: 4, moved: 501.\n"
     ]
    },
    {
     "name": "stdout",
     "output_type": "stream",
     "text": [
      "sub: 4, moved: 1001.\nsub: 4, moved: 1501.\n"
     ]
    },
    {
     "name": "stdout",
     "output_type": "stream",
     "text": [
      "sub: 4, moved: 2001.\nsub: 4, moved: 2501.\n"
     ]
    },
    {
     "name": "stdout",
     "output_type": "stream",
     "text": [
      "sub: 4, moved: 3001.\nsub: 4, moved: 3501.\n"
     ]
    },
    {
     "name": "stdout",
     "output_type": "stream",
     "text": [
      "sub: 4, moved: 4001.\nsub: 4, moved: 4501.\n"
     ]
    },
    {
     "name": "stdout",
     "output_type": "stream",
     "text": [
      "sub: 4, moved: 5001.\nsub: 4, moved: 5501.\n"
     ]
    },
    {
     "name": "stdout",
     "output_type": "stream",
     "text": [
      "sub: 4, moved: 6001.\nsub: 4, moved: 6501.\n"
     ]
    },
    {
     "name": "stdout",
     "output_type": "stream",
     "text": [
      "sub: 4, moved: 7001.\nsub: 4, moved: 7501.\n"
     ]
    },
    {
     "name": "stdout",
     "output_type": "stream",
     "text": [
      "sub: 4, moved: 8001.\nsub: 4, moved: 8501.\n"
     ]
    },
    {
     "name": "stdout",
     "output_type": "stream",
     "text": [
      "sub: 4, moved: 9001.\nsub: 4, moved: 9501.\n"
     ]
    },
    {
     "name": "stdout",
     "output_type": "stream",
     "text": [
      "sub: 4, moved: 10001.\n"
     ]
    },
    {
     "name": "stdout",
     "output_type": "stream",
     "text": [
      "sub: 5, moved: 1.\nsub: 5, moved: 501.\n"
     ]
    },
    {
     "name": "stdout",
     "output_type": "stream",
     "text": [
      "sub: 5, moved: 1001.\nsub: 5, moved: 1501.\n"
     ]
    },
    {
     "name": "stdout",
     "output_type": "stream",
     "text": [
      "sub: 5, moved: 2001.\nsub: 5, moved: 2501.\nsub: 5, moved: 3001.\n"
     ]
    },
    {
     "name": "stdout",
     "output_type": "stream",
     "text": [
      "sub: 5, moved: 3501.\nsub: 5, moved: 4001.\nsub: 5, moved: 4501.\n"
     ]
    },
    {
     "name": "stdout",
     "output_type": "stream",
     "text": [
      "sub: 5, moved: 5001.\nsub: 5, moved: 5501.\nsub: 5, moved: 6001.\n"
     ]
    },
    {
     "name": "stdout",
     "output_type": "stream",
     "text": [
      "sub: 5, moved: 6501.\nsub: 5, moved: 7001.\nsub: 5, moved: 7501.\n"
     ]
    },
    {
     "name": "stdout",
     "output_type": "stream",
     "text": [
      "sub: 5, moved: 8001.\nsub: 5, moved: 8501.\nsub: 5, moved: 9001.\n"
     ]
    },
    {
     "name": "stdout",
     "output_type": "stream",
     "text": [
      "sub: 5, moved: 9501.\nsub: 5, moved: 10001.\n"
     ]
    },
    {
     "name": "stdout",
     "output_type": "stream",
     "text": [
      "sub: 6, moved: 1.\nsub: 6, moved: 501.\n"
     ]
    },
    {
     "name": "stdout",
     "output_type": "stream",
     "text": [
      "sub: 6, moved: 1001.\nsub: 6, moved: 1501.\nsub: 6, moved: 2001.\n"
     ]
    },
    {
     "name": "stdout",
     "output_type": "stream",
     "text": [
      "sub: 6, moved: 2501.\nsub: 6, moved: 3001.\nsub: 6, moved: 3501.\n"
     ]
    },
    {
     "name": "stdout",
     "output_type": "stream",
     "text": [
      "sub: 6, moved: 4001.\nsub: 6, moved: 4501.\nsub: 6, moved: 5001.\n"
     ]
    },
    {
     "name": "stdout",
     "output_type": "stream",
     "text": [
      "sub: 6, moved: 5501.\nsub: 6, moved: 6001.\n"
     ]
    },
    {
     "name": "stdout",
     "output_type": "stream",
     "text": [
      "sub: 6, moved: 6501.\nsub: 6, moved: 7001.\n"
     ]
    },
    {
     "name": "stdout",
     "output_type": "stream",
     "text": [
      "sub: 6, moved: 7501.\nsub: 6, moved: 8001.\nsub: 6, moved: 8501.\n"
     ]
    },
    {
     "name": "stdout",
     "output_type": "stream",
     "text": [
      "sub: 6, moved: 9001.\nsub: 6, moved: 9501.\nsub: 6, moved: 10001.\n"
     ]
    },
    {
     "name": "stdout",
     "output_type": "stream",
     "text": [
      "sub: 7, moved: 1.\nsub: 7, moved: 501.\n"
     ]
    },
    {
     "name": "stdout",
     "output_type": "stream",
     "text": [
      "sub: 7, moved: 1001.\nsub: 7, moved: 1501.\n"
     ]
    },
    {
     "name": "stdout",
     "output_type": "stream",
     "text": [
      "sub: 7, moved: 2001.\nsub: 7, moved: 2501.\nsub: 7, moved: 3001.\n"
     ]
    },
    {
     "name": "stdout",
     "output_type": "stream",
     "text": [
      "sub: 7, moved: 3501.\nsub: 7, moved: 4001.\n"
     ]
    },
    {
     "name": "stdout",
     "output_type": "stream",
     "text": [
      "sub: 7, moved: 4501.\nsub: 7, moved: 5001.\nsub: 7, moved: 5501.\n"
     ]
    },
    {
     "name": "stdout",
     "output_type": "stream",
     "text": [
      "sub: 7, moved: 6001.\nsub: 7, moved: 6501.\nsub: 7, moved: 7001.\n"
     ]
    },
    {
     "name": "stdout",
     "output_type": "stream",
     "text": [
      "sub: 7, moved: 7501.\nsub: 7, moved: 8001.\n"
     ]
    },
    {
     "name": "stdout",
     "output_type": "stream",
     "text": [
      "sub: 7, moved: 8501.\nsub: 7, moved: 9001.\n"
     ]
    },
    {
     "name": "stdout",
     "output_type": "stream",
     "text": [
      "sub: 7, moved: 9501.\nsub: 7, moved: 10001.\n"
     ]
    },
    {
     "name": "stdout",
     "output_type": "stream",
     "text": [
      "sub: 8, moved: 1.\nsub: 8, moved: 501.\n"
     ]
    },
    {
     "name": "stdout",
     "output_type": "stream",
     "text": [
      "sub: 8, moved: 1001.\nsub: 8, moved: 1501.\n"
     ]
    },
    {
     "name": "stdout",
     "output_type": "stream",
     "text": [
      "sub: 8, moved: 2001.\nsub: 8, moved: 2501.\n"
     ]
    },
    {
     "name": "stdout",
     "output_type": "stream",
     "text": [
      "sub: 8, moved: 3001.\nsub: 8, moved: 3501.\nsub: 8, moved: 4001.\n"
     ]
    },
    {
     "name": "stdout",
     "output_type": "stream",
     "text": [
      "sub: 8, moved: 4501.\nsub: 8, moved: 5001.\n"
     ]
    },
    {
     "name": "stdout",
     "output_type": "stream",
     "text": [
      "sub: 8, moved: 5501.\nsub: 8, moved: 6001.\nsub: 8, moved: 6501.\n"
     ]
    },
    {
     "name": "stdout",
     "output_type": "stream",
     "text": [
      "sub: 8, moved: 7001.\nsub: 8, moved: 7501.\nsub: 8, moved: 8001.\n"
     ]
    },
    {
     "name": "stdout",
     "output_type": "stream",
     "text": [
      "sub: 8, moved: 8501.\nsub: 8, moved: 9001.\nsub: 8, moved: 9501.\n"
     ]
    },
    {
     "name": "stdout",
     "output_type": "stream",
     "text": [
      "sub: 8, moved: 10001.\n"
     ]
    },
    {
     "name": "stdout",
     "output_type": "stream",
     "text": [
      "sub: 9, moved: 1.\nsub: 9, moved: 501.\n"
     ]
    },
    {
     "name": "stdout",
     "output_type": "stream",
     "text": [
      "sub: 9, moved: 1001.\nsub: 9, moved: 1501.\n"
     ]
    },
    {
     "name": "stdout",
     "output_type": "stream",
     "text": [
      "sub: 9, moved: 2001.\nsub: 9, moved: 2501.\nsub: 9, moved: 3001.\n"
     ]
    },
    {
     "name": "stdout",
     "output_type": "stream",
     "text": [
      "sub: 9, moved: 3501.\nsub: 9, moved: 4001.\n"
     ]
    },
    {
     "name": "stdout",
     "output_type": "stream",
     "text": [
      "sub: 9, moved: 4501.\nsub: 9, moved: 5001.\n"
     ]
    },
    {
     "name": "stdout",
     "output_type": "stream",
     "text": [
      "sub: 9, moved: 5501.\nsub: 9, moved: 6001.\n"
     ]
    },
    {
     "name": "stdout",
     "output_type": "stream",
     "text": [
      "sub: 9, moved: 6501.\nsub: 9, moved: 7001.\n"
     ]
    },
    {
     "name": "stdout",
     "output_type": "stream",
     "text": [
      "sub: 9, moved: 7501.\nsub: 9, moved: 8001.\n"
     ]
    },
    {
     "name": "stdout",
     "output_type": "stream",
     "text": [
      "sub: 9, moved: 8501.\nsub: 9, moved: 9001.\nsub: 9, moved: 9501.\n"
     ]
    },
    {
     "name": "stdout",
     "output_type": "stream",
     "text": [
      "sub: 9, moved: 10001.\n"
     ]
    },
    {
     "name": "stdout",
     "output_type": "stream",
     "text": [
      "sub: 10, moved: 1.\nsub: 10, moved: 501.\n"
     ]
    },
    {
     "name": "stdout",
     "output_type": "stream",
     "text": [
      "sub: 10, moved: 1001.\nsub: 10, moved: 1501.\n"
     ]
    },
    {
     "name": "stdout",
     "output_type": "stream",
     "text": [
      "sub: 10, moved: 2001.\nsub: 10, moved: 2501.\nsub: 10, moved: 3001.\n"
     ]
    },
    {
     "name": "stdout",
     "output_type": "stream",
     "text": [
      "sub: 10, moved: 3501.\nsub: 10, moved: 4001.\n"
     ]
    },
    {
     "name": "stdout",
     "output_type": "stream",
     "text": [
      "sub: 10, moved: 4501.\nsub: 10, moved: 5001.\n"
     ]
    },
    {
     "name": "stdout",
     "output_type": "stream",
     "text": [
      "sub: 10, moved: 5501.\nsub: 10, moved: 6001.\n"
     ]
    },
    {
     "name": "stdout",
     "output_type": "stream",
     "text": [
      "sub: 10, moved: 6501.\nsub: 10, moved: 7001.\n"
     ]
    },
    {
     "name": "stdout",
     "output_type": "stream",
     "text": [
      "sub: 10, moved: 7501.\nsub: 10, moved: 8001.\n"
     ]
    },
    {
     "name": "stdout",
     "output_type": "stream",
     "text": [
      "sub: 10, moved: 8501.\nsub: 10, moved: 9001.\n"
     ]
    },
    {
     "name": "stdout",
     "output_type": "stream",
     "text": [
      "sub: 10, moved: 9501.\nsub: 10, moved: 10001.\n"
     ]
    },
    {
     "name": "stdout",
     "output_type": "stream",
     "text": [
      "sub: 11, moved: 1.\nsub: 11, moved: 501.\n"
     ]
    },
    {
     "name": "stdout",
     "output_type": "stream",
     "text": [
      "sub: 11, moved: 1001.\nsub: 11, moved: 1501.\n"
     ]
    },
    {
     "name": "stdout",
     "output_type": "stream",
     "text": [
      "sub: 11, moved: 2001.\nsub: 11, moved: 2501.\n"
     ]
    },
    {
     "name": "stdout",
     "output_type": "stream",
     "text": [
      "sub: 11, moved: 3001.\nsub: 11, moved: 3501.\n"
     ]
    },
    {
     "name": "stdout",
     "output_type": "stream",
     "text": [
      "sub: 11, moved: 4001.\nsub: 11, moved: 4501.\nsub: 11, moved: 5001.\n"
     ]
    },
    {
     "name": "stdout",
     "output_type": "stream",
     "text": [
      "sub: 11, moved: 5501.\nsub: 11, moved: 6001.\n"
     ]
    },
    {
     "name": "stdout",
     "output_type": "stream",
     "text": [
      "sub: 11, moved: 6501.\nsub: 11, moved: 7001.\n"
     ]
    },
    {
     "name": "stdout",
     "output_type": "stream",
     "text": [
      "sub: 11, moved: 7501.\nsub: 11, moved: 8001.\n"
     ]
    },
    {
     "name": "stdout",
     "output_type": "stream",
     "text": [
      "sub: 11, moved: 8501.\nsub: 11, moved: 9001.\n"
     ]
    },
    {
     "name": "stdout",
     "output_type": "stream",
     "text": [
      "sub: 11, moved: 9501.\nsub: 11, moved: 10001.\n"
     ]
    },
    {
     "name": "stdout",
     "output_type": "stream",
     "text": [
      "sub: 12, moved: 1.\nsub: 12, moved: 501.\n"
     ]
    },
    {
     "name": "stdout",
     "output_type": "stream",
     "text": [
      "sub: 12, moved: 1001.\nsub: 12, moved: 1501.\nsub: 12, moved: 2001.\n"
     ]
    },
    {
     "name": "stdout",
     "output_type": "stream",
     "text": [
      "sub: 12, moved: 2501.\nsub: 12, moved: 3001.\nsub: 12, moved: 3501.\n"
     ]
    },
    {
     "name": "stdout",
     "output_type": "stream",
     "text": [
      "sub: 12, moved: 4001.\nsub: 12, moved: 4501.\n"
     ]
    },
    {
     "name": "stdout",
     "output_type": "stream",
     "text": [
      "sub: 12, moved: 5001.\nsub: 12, moved: 5501.\nsub: 12, moved: 6001.\n"
     ]
    },
    {
     "name": "stdout",
     "output_type": "stream",
     "text": [
      "sub: 12, moved: 6501.\nsub: 12, moved: 7001.\n"
     ]
    },
    {
     "name": "stdout",
     "output_type": "stream",
     "text": [
      "sub: 12, moved: 7501.\nsub: 12, moved: 8001.\n"
     ]
    },
    {
     "name": "stdout",
     "output_type": "stream",
     "text": [
      "sub: 12, moved: 8501.\nsub: 12, moved: 9001.\n"
     ]
    },
    {
     "name": "stdout",
     "output_type": "stream",
     "text": [
      "sub: 12, moved: 9501.\nsub: 12, moved: 10001.\n"
     ]
    },
    {
     "name": "stdout",
     "output_type": "stream",
     "text": [
      "sub: 13, moved: 1.\nsub: 13, moved: 501.\n"
     ]
    },
    {
     "name": "stdout",
     "output_type": "stream",
     "text": [
      "sub: 13, moved: 1001.\nsub: 13, moved: 1501.\n"
     ]
    },
    {
     "name": "stdout",
     "output_type": "stream",
     "text": [
      "sub: 13, moved: 2001.\nsub: 13, moved: 2501.\n"
     ]
    },
    {
     "name": "stdout",
     "output_type": "stream",
     "text": [
      "sub: 13, moved: 3001.\nsub: 13, moved: 3501.\nsub: 13, moved: 4001.\n"
     ]
    },
    {
     "name": "stdout",
     "output_type": "stream",
     "text": [
      "sub: 13, moved: 4501.\nsub: 13, moved: 5001.\nsub: 13, moved: 5501.\n"
     ]
    },
    {
     "name": "stdout",
     "output_type": "stream",
     "text": [
      "sub: 13, moved: 6001.\nsub: 13, moved: 6501.\n"
     ]
    },
    {
     "name": "stdout",
     "output_type": "stream",
     "text": [
      "sub: 13, moved: 7001.\nsub: 13, moved: 7501.\n"
     ]
    },
    {
     "name": "stdout",
     "output_type": "stream",
     "text": [
      "sub: 13, moved: 8001.\nsub: 13, moved: 8501.\n"
     ]
    },
    {
     "name": "stdout",
     "output_type": "stream",
     "text": [
      "sub: 13, moved: 9001.\nsub: 13, moved: 9501.\n"
     ]
    },
    {
     "name": "stdout",
     "output_type": "stream",
     "text": [
      "sub: 13, moved: 10001.\n"
     ]
    },
    {
     "name": "stdout",
     "output_type": "stream",
     "text": [
      "sub: 14, moved: 1.\nsub: 14, moved: 501.\n"
     ]
    },
    {
     "name": "stdout",
     "output_type": "stream",
     "text": [
      "sub: 14, moved: 1001.\nsub: 14, moved: 1501.\nsub: 14, moved: 2001.\n"
     ]
    },
    {
     "name": "stdout",
     "output_type": "stream",
     "text": [
      "sub: 14, moved: 2501.\nsub: 14, moved: 3001.\nsub: 14, moved: 3501.\n"
     ]
    },
    {
     "name": "stdout",
     "output_type": "stream",
     "text": [
      "sub: 14, moved: 4001.\nsub: 14, moved: 4501.\nsub: 14, moved: 5001.\n"
     ]
    },
    {
     "name": "stdout",
     "output_type": "stream",
     "text": [
      "sub: 14, moved: 5501.\nsub: 14, moved: 6001.\nsub: 14, moved: 6501.\n"
     ]
    },
    {
     "name": "stdout",
     "output_type": "stream",
     "text": [
      "sub: 14, moved: 7001.\nsub: 14, moved: 7501.\nsub: 14, moved: 8001.\n"
     ]
    },
    {
     "name": "stdout",
     "output_type": "stream",
     "text": [
      "sub: 14, moved: 8501.\nsub: 14, moved: 9001.\nsub: 14, moved: 9501.\n"
     ]
    },
    {
     "name": "stdout",
     "output_type": "stream",
     "text": [
      "sub: 14, moved: 10001.\nsub: 15, moved: 1.\n"
     ]
    },
    {
     "name": "stdout",
     "output_type": "stream",
     "text": [
      "sub: 15, moved: 501.\nsub: 15, moved: 1001.\n"
     ]
    },
    {
     "name": "stdout",
     "output_type": "stream",
     "text": [
      "sub: 15, moved: 1501.\nsub: 15, moved: 2001.\nsub: 15, moved: 2501.\n"
     ]
    },
    {
     "name": "stdout",
     "output_type": "stream",
     "text": [
      "sub: 15, moved: 3001.\nsub: 15, moved: 3501.\n"
     ]
    },
    {
     "name": "stdout",
     "output_type": "stream",
     "text": [
      "sub: 15, moved: 4001.\nsub: 15, moved: 4501.\n"
     ]
    },
    {
     "name": "stdout",
     "output_type": "stream",
     "text": [
      "sub: 15, moved: 5001.\nsub: 15, moved: 5501.\nsub: 15, moved: 6001.\n"
     ]
    },
    {
     "name": "stdout",
     "output_type": "stream",
     "text": [
      "sub: 15, moved: 6501.\nsub: 15, moved: 7001.\nsub: 15, moved: 7501.\n"
     ]
    },
    {
     "name": "stdout",
     "output_type": "stream",
     "text": [
      "sub: 15, moved: 8001.\nsub: 15, moved: 8501.\nsub: 15, moved: 9001.\n"
     ]
    },
    {
     "name": "stdout",
     "output_type": "stream",
     "text": [
      "sub: 15, moved: 9501.\nsub: 15, moved: 10001.\n"
     ]
    },
    {
     "name": "stdout",
     "output_type": "stream",
     "text": [
      "sub: 16, moved: 1.\nsub: 16, moved: 501.\n"
     ]
    },
    {
     "name": "stdout",
     "output_type": "stream",
     "text": [
      "sub: 16, moved: 1001.\nsub: 16, moved: 1501.\n"
     ]
    },
    {
     "name": "stdout",
     "output_type": "stream",
     "text": [
      "sub: 16, moved: 2001.\nsub: 16, moved: 2501.\nsub: 16, moved: 3001.\n"
     ]
    },
    {
     "name": "stdout",
     "output_type": "stream",
     "text": [
      "sub: 16, moved: 3501.\nsub: 16, moved: 4001.\nsub: 16, moved: 4501.\n"
     ]
    },
    {
     "name": "stdout",
     "output_type": "stream",
     "text": [
      "sub: 16, moved: 5001.\nsub: 16, moved: 5501.\nsub: 16, moved: 6001.\n"
     ]
    },
    {
     "name": "stdout",
     "output_type": "stream",
     "text": [
      "sub: 16, moved: 6501.\nsub: 16, moved: 7001.\n"
     ]
    },
    {
     "name": "stdout",
     "output_type": "stream",
     "text": [
      "sub: 16, moved: 7501.\nsub: 16, moved: 8001.\nsub: 16, moved: 8501.\n"
     ]
    },
    {
     "name": "stdout",
     "output_type": "stream",
     "text": [
      "sub: 16, moved: 9001.\nsub: 16, moved: 9501.\nsub: 16, moved: 10001.\n"
     ]
    },
    {
     "name": "stdout",
     "output_type": "stream",
     "text": [
      "sub: 17, moved: 1.\nsub: 17, moved: 501.\n"
     ]
    },
    {
     "name": "stdout",
     "output_type": "stream",
     "text": [
      "sub: 17, moved: 1001.\nsub: 17, moved: 1501.\n"
     ]
    },
    {
     "name": "stdout",
     "output_type": "stream",
     "text": [
      "sub: 17, moved: 2001.\nsub: 17, moved: 2501.\nsub: 17, moved: 3001.\n"
     ]
    },
    {
     "name": "stdout",
     "output_type": "stream",
     "text": [
      "sub: 17, moved: 3501.\nsub: 17, moved: 4001.\n"
     ]
    },
    {
     "name": "stdout",
     "output_type": "stream",
     "text": [
      "sub: 17, moved: 4501.\nsub: 17, moved: 5001.\nsub: 17, moved: 5501.\n"
     ]
    },
    {
     "name": "stdout",
     "output_type": "stream",
     "text": [
      "sub: 17, moved: 6001.\nsub: 17, moved: 6501.\n"
     ]
    },
    {
     "name": "stdout",
     "output_type": "stream",
     "text": [
      "sub: 17, moved: 7001.\nsub: 17, moved: 7501.\n"
     ]
    },
    {
     "name": "stdout",
     "output_type": "stream",
     "text": [
      "sub: 17, moved: 8001.\nsub: 17, moved: 8501.\n"
     ]
    },
    {
     "name": "stdout",
     "output_type": "stream",
     "text": [
      "sub: 17, moved: 9001.\nsub: 17, moved: 9501.\n"
     ]
    },
    {
     "name": "stdout",
     "output_type": "stream",
     "text": [
      "sub: 17, moved: 10001.\n"
     ]
    },
    {
     "name": "stdout",
     "output_type": "stream",
     "text": [
      "sub: 18, moved: 1.\nsub: 18, moved: 501.\n"
     ]
    },
    {
     "name": "stdout",
     "output_type": "stream",
     "text": [
      "sub: 18, moved: 1001.\nsub: 18, moved: 1501.\n"
     ]
    },
    {
     "name": "stdout",
     "output_type": "stream",
     "text": [
      "sub: 18, moved: 2001.\nsub: 18, moved: 2501.\n"
     ]
    },
    {
     "name": "stdout",
     "output_type": "stream",
     "text": [
      "sub: 18, moved: 3001.\nsub: 18, moved: 3501.\n"
     ]
    },
    {
     "name": "stdout",
     "output_type": "stream",
     "text": [
      "sub: 18, moved: 4001.\nsub: 18, moved: 4501.\n"
     ]
    },
    {
     "name": "stdout",
     "output_type": "stream",
     "text": [
      "sub: 18, moved: 5001.\nsub: 18, moved: 5501.\n"
     ]
    },
    {
     "name": "stdout",
     "output_type": "stream",
     "text": [
      "sub: 18, moved: 6001.\nsub: 18, moved: 6501.\n"
     ]
    },
    {
     "name": "stdout",
     "output_type": "stream",
     "text": [
      "sub: 18, moved: 7001.\nsub: 18, moved: 7501.\n"
     ]
    },
    {
     "name": "stdout",
     "output_type": "stream",
     "text": [
      "sub: 18, moved: 8001.\nsub: 18, moved: 8501.\n"
     ]
    },
    {
     "name": "stdout",
     "output_type": "stream",
     "text": [
      "sub: 18, moved: 9001.\nsub: 18, moved: 9501.\n"
     ]
    },
    {
     "name": "stdout",
     "output_type": "stream",
     "text": [
      "sub: 18, moved: 10001.\nsub: 19, moved: 1.\n"
     ]
    },
    {
     "name": "stdout",
     "output_type": "stream",
     "text": [
      "sub: 19, moved: 501.\nsub: 19, moved: 1001.\n"
     ]
    },
    {
     "name": "stdout",
     "output_type": "stream",
     "text": [
      "sub: 19, moved: 1501.\nsub: 19, moved: 2001.\n"
     ]
    },
    {
     "name": "stdout",
     "output_type": "stream",
     "text": [
      "sub: 19, moved: 2501.\nsub: 19, moved: 3001.\nsub: 19, moved: 3501.\n"
     ]
    },
    {
     "name": "stdout",
     "output_type": "stream",
     "text": [
      "sub: 19, moved: 4001.\nsub: 19, moved: 4501.\nsub: 19, moved: 5001.\n"
     ]
    },
    {
     "name": "stdout",
     "output_type": "stream",
     "text": [
      "sub: 19, moved: 5501.\nsub: 19, moved: 6001.\n"
     ]
    },
    {
     "name": "stdout",
     "output_type": "stream",
     "text": [
      "sub: 19, moved: 6501.\nsub: 19, moved: 7001.\n"
     ]
    },
    {
     "name": "stdout",
     "output_type": "stream",
     "text": [
      "sub: 19, moved: 7501.\nsub: 19, moved: 8001.\nsub: 19, moved: 8501.\n"
     ]
    },
    {
     "name": "stdout",
     "output_type": "stream",
     "text": [
      "sub: 19, moved: 9001.\nsub: 19, moved: 9501.\nsub: 19, moved: 10001.\n"
     ]
    },
    {
     "name": "stdout",
     "output_type": "stream",
     "text": [
      "sub: 20, moved: 1.\nsub: 20, moved: 501.\n"
     ]
    },
    {
     "name": "stdout",
     "output_type": "stream",
     "text": [
      "sub: 20, moved: 1001.\nsub: 20, moved: 1501.\n"
     ]
    },
    {
     "name": "stdout",
     "output_type": "stream",
     "text": [
      "sub: 20, moved: 2001.\nsub: 20, moved: 2501.\n"
     ]
    },
    {
     "name": "stdout",
     "output_type": "stream",
     "text": [
      "sub: 20, moved: 3001.\nsub: 20, moved: 3501.\n"
     ]
    },
    {
     "name": "stdout",
     "output_type": "stream",
     "text": [
      "sub: 20, moved: 4001.\nsub: 20, moved: 4501.\n"
     ]
    },
    {
     "name": "stdout",
     "output_type": "stream",
     "text": [
      "sub: 20, moved: 5001.\nsub: 20, moved: 5501.\nsub: 20, moved: 6001.\n"
     ]
    },
    {
     "name": "stdout",
     "output_type": "stream",
     "text": [
      "sub: 20, moved: 6501.\nsub: 20, moved: 7001.\n"
     ]
    },
    {
     "name": "stdout",
     "output_type": "stream",
     "text": [
      "sub: 20, moved: 7501.\nsub: 20, moved: 8001.\nsub: 20, moved: 8501.\n"
     ]
    },
    {
     "name": "stdout",
     "output_type": "stream",
     "text": [
      "sub: 20, moved: 9001.\nsub: 20, moved: 9501.\nsub: 20, moved: 10001.\n"
     ]
    }
   ],
   "source": [
    "for i in range(nb_sub_anno_files):\n",
    "    with open(os.path.join(train_annotations_split, sub_anno_files[i]), 'r') as obj2:\n",
    "        anno_temp = json.load(obj2)\n",
    "    \n",
    "    dst_subdir = train_data_split + '/' + 'train2017_p%s' % (i+1)\n",
    "    os.mkdir(dst_subdir)\n",
    "    for idx, j in enumerate(anno_temp):\n",
    "        img_src = data_dir + '/' + j['image_id'] + '.jpg'\n",
    "        img_dst = dst_subdir + '/' + j['image_id'] + '.jpg' \n",
    "        \n",
    "        try:\n",
    "            move(img_src, img_dst)\n",
    "        except FileNotFoundError:\n",
    "            print(img_src, 'is not Found.')\n",
    "            \n",
    "        if idx % 500 == 0:\n",
    "            print('sub: %s, moved: %s.' % (i+1, idx+1))"
   ]
  },
  {
   "cell_type": "code",
   "execution_count": 54,
   "metadata": {},
   "outputs": [
    {
     "name": "stdout",
     "output_type": "stream",
     "text": [
      "043758c591b58f39a01648c49b5154ad1e01d400\n"
     ]
    }
   ],
   "source": [
    "with open(os.path.join(train_annotations_split, sub_anno_files[0]), 'r') as obj2:\n",
    "        anno_temp = json.load(obj2)\n",
    "        \n",
    "print(anno_temp[0]['image_id'])\n"
   ]
  },
  {
   "cell_type": "code",
   "execution_count": 55,
   "metadata": {},
   "outputs": [
    {
     "data": {
      "text/plain": [
       "10499"
      ]
     },
     "execution_count": 55,
     "metadata": {},
     "output_type": "execute_result"
    }
   ],
   "source": [
    "\n",
    "len(anno_temp)"
   ]
  },
  {
   "cell_type": "code",
   "execution_count": 53,
   "metadata": {},
   "outputs": [],
   "source": [
    "with open(os.path.join(train_annotations_split, sub_anno_files[0]), 'w') as obj2:\n",
    "    json.dump(anno_temp, obj2)"
   ]
  },
  {
   "cell_type": "code",
   "execution_count": 59,
   "metadata": {
    "collapsed": true
   },
   "outputs": [
    {
     "name": "stdout",
     "output_type": "stream",
     "text": [
      "The json file contains keypoint infos for 10499 images.\nThe image path contains 10499 images.\nThe numbers match.\nNow check if the ids match...\n"
     ]
    },
    {
     "name": "stdout",
     "output_type": "stream",
     "text": [
      "check passed.\nThe json file contains keypoint infos for 10500 images.\nThe image path contains 10500 images.\nThe numbers match.\nNow check if the ids match...\n"
     ]
    },
    {
     "name": "stdout",
     "output_type": "stream",
     "text": [
      "check passed.\nThe json file contains keypoint infos for 10500 images.\nThe image path contains 10500 images.\nThe numbers match.\nNow check if the ids match...\n"
     ]
    },
    {
     "name": "stdout",
     "output_type": "stream",
     "text": [
      "check passed.\nThe json file contains keypoint infos for 10500 images.\nThe image path contains 10500 images.\nThe numbers match.\nNow check if the ids match...\n"
     ]
    },
    {
     "name": "stdout",
     "output_type": "stream",
     "text": [
      "check passed.\nThe json file contains keypoint infos for 10500 images.\nThe image path contains 10500 images.\nThe numbers match.\nNow check if the ids match...\n"
     ]
    },
    {
     "name": "stdout",
     "output_type": "stream",
     "text": [
      "check passed.\n"
     ]
    },
    {
     "name": "stdout",
     "output_type": "stream",
     "text": [
      "The json file contains keypoint infos for 10500 images.\nThe image path contains 10500 images.\nThe numbers match.\nNow check if the ids match...\n"
     ]
    },
    {
     "name": "stdout",
     "output_type": "stream",
     "text": [
      "check passed.\nThe json file contains keypoint infos for 10500 images.\nThe image path contains 10500 images.\nThe numbers match.\nNow check if the ids match...\n"
     ]
    },
    {
     "name": "stdout",
     "output_type": "stream",
     "text": [
      "check passed.\nThe json file contains keypoint infos for 10500 images.\nThe image path contains 10500 images.\nThe numbers match.\nNow check if the ids match...\n"
     ]
    },
    {
     "name": "stdout",
     "output_type": "stream",
     "text": [
      "check passed.\nThe json file contains keypoint infos for 10500 images.\nThe image path contains 10500 images.\nThe numbers match.\nNow check if the ids match...\n"
     ]
    },
    {
     "name": "stdout",
     "output_type": "stream",
     "text": [
      "check passed.\nThe json file contains keypoint infos for 10500 images.\nThe image path contains 10500 images.\nThe numbers match.\nNow check if the ids match...\n"
     ]
    },
    {
     "name": "stdout",
     "output_type": "stream",
     "text": [
      "check passed.\nThe json file contains keypoint infos for 10500 images.\nThe image path contains 10500 images.\nThe numbers match.\nNow check if the ids match...\n"
     ]
    },
    {
     "name": "stdout",
     "output_type": "stream",
     "text": [
      "check passed.\n"
     ]
    },
    {
     "name": "stdout",
     "output_type": "stream",
     "text": [
      "The json file contains keypoint infos for 10500 images.\nThe image path contains 10500 images.\nThe numbers match.\nNow check if the ids match...\n"
     ]
    },
    {
     "name": "stdout",
     "output_type": "stream",
     "text": [
      "check passed.\nThe json file contains keypoint infos for 10499 images.\nThe image path contains 10499 images.\nThe numbers match.\nNow check if the ids match...\n"
     ]
    },
    {
     "name": "stdout",
     "output_type": "stream",
     "text": [
      "check passed.\nThe json file contains keypoint infos for 10500 images.\nThe image path contains 10500 images.\nThe numbers match.\nNow check if the ids match...\n"
     ]
    },
    {
     "name": "stdout",
     "output_type": "stream",
     "text": [
      "check passed.\nThe json file contains keypoint infos for 10500 images.\nThe image path contains 10500 images.\nThe numbers match.\nNow check if the ids match...\n"
     ]
    },
    {
     "name": "stdout",
     "output_type": "stream",
     "text": [
      "check passed.\nThe json file contains keypoint infos for 10500 images.\nThe image path contains 10500 images.\nThe numbers match.\nNow check if the ids match...\n"
     ]
    },
    {
     "name": "stdout",
     "output_type": "stream",
     "text": [
      "check passed.\nThe json file contains keypoint infos for 10500 images.\nThe image path contains 10500 images.\nThe numbers match.\nNow check if the ids match...\n"
     ]
    },
    {
     "name": "stdout",
     "output_type": "stream",
     "text": [
      "check passed.\n"
     ]
    },
    {
     "name": "stdout",
     "output_type": "stream",
     "text": [
      "The json file contains keypoint infos for 10500 images.\nThe image path contains 10500 images.\nThe numbers match.\nNow check if the ids match...\n"
     ]
    },
    {
     "name": "stdout",
     "output_type": "stream",
     "text": [
      "check passed.\nThe json file contains keypoint infos for 10500 images.\nThe image path contains 10500 images.\nThe numbers match.\nNow check if the ids match...\n"
     ]
    },
    {
     "name": "stdout",
     "output_type": "stream",
     "text": [
      "check passed.\nThe json file contains keypoint infos for 10500 images.\nThe image path contains 10500 images.\nThe numbers match.\nNow check if the ids match...\n"
     ]
    },
    {
     "name": "stdout",
     "output_type": "stream",
     "text": [
      "check passed.\n"
     ]
    }
   ],
   "source": [
    "for i in range(subset_nb):\n",
    "    ret = check_sample(train_data_split + '/' + 'train2017_p%s' % (i+1), \n",
    "                       os.path.join(train_annotations_split, sub_anno_files[i]))"
   ]
  },
  {
   "cell_type": "code",
   "execution_count": null,
   "metadata": {},
   "outputs": [],
   "source": []
  },
  {
   "cell_type": "code",
   "execution_count": null,
   "metadata": {},
   "outputs": [],
   "source": []
  },
  {
   "cell_type": "code",
   "execution_count": null,
   "metadata": {},
   "outputs": [],
   "source": []
  }
 ],
 "metadata": {
  "kernelspec": {
   "display_name": "Python 2",
   "language": "python",
   "name": "python2"
  },
  "language_info": {
   "codemirror_mode": {
    "name": "ipython",
    "version": 2
   },
   "file_extension": ".py",
   "mimetype": "text/x-python",
   "name": "python",
   "nbconvert_exporter": "python",
   "pygments_lexer": "ipython2",
   "version": "2.7.6"
  }
 },
 "nbformat": 4,
 "nbformat_minor": 0
}
